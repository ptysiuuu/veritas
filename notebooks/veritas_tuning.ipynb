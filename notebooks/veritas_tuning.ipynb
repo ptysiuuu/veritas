{
 "cells": [
  {
   "cell_type": "markdown",
   "id": "e02fe54d",
   "metadata": {},
   "source": [
    "# Veritas – Fine-Tuning Transformer Model for Fake News Detection\n",
    "\n",
    "This notebook documents the end-to-end process of fine-tuning a transformer-based model (e.g., BERT) for binary classification: detecting whether a given text is a **real** or **fake** news item.\n",
    "\n",
    "We use Hugging Face Transformers and Datasets libraries for efficient model training and evaluation.\n"
   ]
  },
  {
   "cell_type": "markdown",
   "id": "38e0aa4a",
   "metadata": {},
   "source": [
    "**1.** Imports"
   ]
  },
  {
   "cell_type": "code",
   "execution_count": 1,
   "id": "da6f5f57",
   "metadata": {},
   "outputs": [
    {
     "name": "stderr",
     "output_type": "stream",
     "text": [
      "/home/ptysiu/moje/veritas/.venv/lib/python3.10/site-packages/tqdm/auto.py:21: TqdmWarning: IProgress not found. Please update jupyter and ipywidgets. See https://ipywidgets.readthedocs.io/en/stable/user_install.html\n",
      "  from .autonotebook import tqdm as notebook_tqdm\n"
     ]
    },
    {
     "data": {
      "text/plain": [
       "device(type='cuda')"
      ]
     },
     "execution_count": 1,
     "metadata": {},
     "output_type": "execute_result"
    }
   ],
   "source": [
    "from transformers import AutoTokenizer, AutoModelForSequenceClassification, Trainer, TrainingArguments, AutoConfig, DataCollatorWithPadding\n",
    "from matplotlib import pyplot as plt\n",
    "from sklearn.model_selection import train_test_split\n",
    "from sklearn.metrics import accuracy_score, f1_score, precision_score, recall_score, confusion_matrix\n",
    "from peft import PeftModel, PeftConfig, get_peft_model, LoraConfig\n",
    "from datasets import Dataset, DatasetDict\n",
    "import kagglehub\n",
    "import pandas as pd\n",
    "import re\n",
    "import torch\n",
    "import string\n",
    "import numpy as np\n",
    "import seaborn as sns\n",
    "\n",
    "device = torch.device('cuda' if torch.cuda.is_available() else 'cpu')\n",
    "device"
   ]
  },
  {
   "cell_type": "markdown",
   "id": "33525824",
   "metadata": {},
   "source": [
    "**2.** Data loading"
   ]
  },
  {
   "cell_type": "code",
   "execution_count": 2,
   "id": "d79036b7",
   "metadata": {},
   "outputs": [
    {
     "name": "stdout",
     "output_type": "stream",
     "text": [
      "Path to dataset files: /home/ptysiu/.cache/kagglehub/datasets/saurabhshahane/fake-news-classification/versions/77/WELFake_Dataset.csv\n"
     ]
    },
    {
     "data": {
      "text/html": [
       "<div>\n",
       "<style scoped>\n",
       "    .dataframe tbody tr th:only-of-type {\n",
       "        vertical-align: middle;\n",
       "    }\n",
       "\n",
       "    .dataframe tbody tr th {\n",
       "        vertical-align: top;\n",
       "    }\n",
       "\n",
       "    .dataframe thead th {\n",
       "        text-align: right;\n",
       "    }\n",
       "</style>\n",
       "<table border=\"1\" class=\"dataframe\">\n",
       "  <thead>\n",
       "    <tr style=\"text-align: right;\">\n",
       "      <th></th>\n",
       "      <th>Unnamed: 0</th>\n",
       "      <th>title</th>\n",
       "      <th>text</th>\n",
       "      <th>label</th>\n",
       "    </tr>\n",
       "  </thead>\n",
       "  <tbody>\n",
       "    <tr>\n",
       "      <th>0</th>\n",
       "      <td>0</td>\n",
       "      <td>LAW ENFORCEMENT ON HIGH ALERT Following Threat...</td>\n",
       "      <td>No comment is expected from Barack Obama Membe...</td>\n",
       "      <td>1</td>\n",
       "    </tr>\n",
       "    <tr>\n",
       "      <th>1</th>\n",
       "      <td>1</td>\n",
       "      <td>NaN</td>\n",
       "      <td>Did they post their votes for Hillary already?</td>\n",
       "      <td>1</td>\n",
       "    </tr>\n",
       "    <tr>\n",
       "      <th>2</th>\n",
       "      <td>2</td>\n",
       "      <td>UNBELIEVABLE! OBAMA’S ATTORNEY GENERAL SAYS MO...</td>\n",
       "      <td>Now, most of the demonstrators gathered last ...</td>\n",
       "      <td>1</td>\n",
       "    </tr>\n",
       "    <tr>\n",
       "      <th>3</th>\n",
       "      <td>3</td>\n",
       "      <td>Bobby Jindal, raised Hindu, uses story of Chri...</td>\n",
       "      <td>A dozen politically active pastors came here f...</td>\n",
       "      <td>0</td>\n",
       "    </tr>\n",
       "    <tr>\n",
       "      <th>4</th>\n",
       "      <td>4</td>\n",
       "      <td>SATAN 2: Russia unvelis an image of its terrif...</td>\n",
       "      <td>The RS-28 Sarmat missile, dubbed Satan 2, will...</td>\n",
       "      <td>1</td>\n",
       "    </tr>\n",
       "  </tbody>\n",
       "</table>\n",
       "</div>"
      ],
      "text/plain": [
       "   Unnamed: 0                                              title  \\\n",
       "0           0  LAW ENFORCEMENT ON HIGH ALERT Following Threat...   \n",
       "1           1                                                NaN   \n",
       "2           2  UNBELIEVABLE! OBAMA’S ATTORNEY GENERAL SAYS MO...   \n",
       "3           3  Bobby Jindal, raised Hindu, uses story of Chri...   \n",
       "4           4  SATAN 2: Russia unvelis an image of its terrif...   \n",
       "\n",
       "                                                text  label  \n",
       "0  No comment is expected from Barack Obama Membe...      1  \n",
       "1     Did they post their votes for Hillary already?      1  \n",
       "2   Now, most of the demonstrators gathered last ...      1  \n",
       "3  A dozen politically active pastors came here f...      0  \n",
       "4  The RS-28 Sarmat missile, dubbed Satan 2, will...      1  "
      ]
     },
     "execution_count": 2,
     "metadata": {},
     "output_type": "execute_result"
    }
   ],
   "source": [
    "path = kagglehub.dataset_download(\"saurabhshahane/fake-news-classification\")\n",
    "path += \"/WELFake_Dataset.csv\"\n",
    "\n",
    "print(\"Path to dataset files:\", path)\n",
    "df = pd.read_csv(path, encoding=\"utf-8\")\n",
    "df.head()\n"
   ]
  },
  {
   "cell_type": "code",
   "execution_count": 3,
   "id": "2f71998e",
   "metadata": {},
   "outputs": [
    {
     "data": {
      "image/png": "[encoded data removed]",
      "text/plain": [
       "<Figure size 640x480 with 1 Axes>"
      ]
     },
     "metadata": {},
     "output_type": "display_data"
    }
   ],
   "source": [
    "df.drop(columns=['title', 'Unnamed: 0'],axis=1,inplace=True)\n",
    "df.rename(columns={'label':'labels'},inplace=True)\n",
    "news_map = {1:'real',0:'fake'}\n",
    "df['label_names'] = df['labels'].map(news_map)\n",
    "values = df['labels']\n",
    "\n",
    "plt.hist(values, bins=2, edgecolor='black', rwidth=0.8)\n",
    "plt.xticks([0, 1], ['False', 'True'])\n",
    "plt.xlabel(\"Label\")\n",
    "plt.ylabel(\"Count\")\n",
    "plt.title(\"Distribution of Fake (0) and Real (1) Labels\")\n",
    "plt.grid(True, linestyle=\"--\", alpha=0.5)\n",
    "\n",
    "plt.show()\n"
   ]
  },
  {
   "cell_type": "code",
   "execution_count": 4,
   "id": "19ca359f",
   "metadata": {},
   "outputs": [
    {
     "name": "stdout",
     "output_type": "stream",
     "text": [
      "count     72134.000000\n",
      "mean       3268.387834\n",
      "std        3732.877545\n",
      "min           0.000000\n",
      "25%        1377.000000\n",
      "50%        2424.000000\n",
      "75%        4059.000000\n",
      "max      142961.000000\n",
      "Name: text_length, dtype: float64\n"
     ]
    },
    {
     "data": {
      "image/png": "[encoded data removed]",
      "text/plain": [
       "<Figure size 640x480 with 1 Axes>"
      ]
     },
     "metadata": {},
     "output_type": "display_data"
    }
   ],
   "source": [
    "df['text_length'] = df['text'].apply(lambda x: len(str(x)) if pd.notnull(x) else 0)\n",
    "\n",
    "print(df['text_length'].describe())\n",
    "\n",
    "plt.hist(df['text_length'], bins=50, edgecolor='black')\n",
    "plt.title(\"Distribution of Text Lengths\")\n",
    "plt.xlabel(\"Length (characters)\")\n",
    "plt.ylabel(\"Count\")\n",
    "plt.show()\n"
   ]
  },
  {
   "cell_type": "code",
   "execution_count": 5,
   "id": "56893404",
   "metadata": {},
   "outputs": [
    {
     "data": {
      "text/plain": [
       "0    no comment is expected from barack obama membe...\n",
       "1        did they post their votes for hillary already\n",
       "2     now most of the demonstrators gathered last n...\n",
       "3    a dozen politically active pastors came here f...\n",
       "4    the rs sarmat missile dubbed satan will replac...\n",
       "Name: text, dtype: object"
      ]
     },
     "execution_count": 5,
     "metadata": {},
     "output_type": "execute_result"
    }
   ],
   "source": [
    "# Cleaning the text - lowercase conversion, whitespace and special symbols deletion\n",
    "def clean_text(text):\n",
    "    text = text.lower()\n",
    "    text = text.replace('\\n', ' ')\n",
    "    text = re.sub(r'\\d+', ' ', text)\n",
    "    text = text.translate(str.maketrans(' ', ' ', string.punctuation))\n",
    "    text = re.sub(r'\\s+', ' ', text, flags=re.I)\n",
    "    return text\n",
    "\n",
    "df.dropna(axis=0,inplace=True)\n",
    "\n",
    "df['text'] = df['text'].apply(clean_text)\n",
    "\n",
    "df['text'].head()"
   ]
  },
  {
   "cell_type": "markdown",
   "id": "01532f1e",
   "metadata": {},
   "source": [
    "**3.** Tokenizing the data"
   ]
  },
  {
   "cell_type": "code",
   "execution_count": 6,
   "id": "adae65dd",
   "metadata": {},
   "outputs": [
    {
     "name": "stdout",
     "output_type": "stream",
     "text": [
      "Vocabulary size: 30522\n",
      "Tokenizer model max length: 512\n",
      "(50466, 4) (14419, 4) (7210, 4)\n",
      "DatasetDict({\n",
      "    train: Dataset({\n",
      "        features: ['text', 'labels', 'label_names', 'text_length'],\n",
      "        num_rows: 50466\n",
      "    })\n",
      "    test: Dataset({\n",
      "        features: ['text', 'labels', 'label_names', 'text_length'],\n",
      "        num_rows: 14419\n",
      "    })\n",
      "    validation: Dataset({\n",
      "        features: ['text', 'labels', 'label_names', 'text_length'],\n",
      "        num_rows: 7210\n",
      "    })\n",
      "})\n",
      "{'text': 'share this with every offended snowflake in america clamoring for a safe space ', 'labels': 1, 'label_names': 'real', 'text_length': 80}\n",
      "{'text': 'this election will ask us to choose one of the following an overqualified dignified woman or a fascist xenophobic billionaire the woman hillary clinton has dedicated her life to fighting for the rights and dignities of all while the man donald trump has fought only for himself and his pocketsone group that tends to vote democrat but has been leaning a little more towards the right recently are jewish people in percent of jewish americans voted for president obama as did percent in this year is different instead of facing off against john mccain or mitt romney the democrats are facing off against the definition of fascism and xenophobia and they have a message to their grandchildren vote for hillary clintonwhy because they ve seen this beforein a video titled a message from grandma grandpa we ve seen this before a group of elderly jewish americans plead with their younger generations to get out and vote and warns against the type of man donald trump is they enlisted some powerful allies in the effort to defeat donald trump grandparents and they aren t holding back this is probably one of the most important elections because there is so much is at stake of course their experiences with germany take front and center we have seen this before we saw it in germany and don t want to see it again their hatred for trump is not hidden and for good reason trump is more than a tyrant he s an obnoxious lying individual and i haven t any respect for him i have tremendous fears for the country and and for you my grandchildren adding some lighthearted but important humor one grandparent tells their grandkids if you vote the future is yours if you don t vote for hillary and that crazy man trump is elected i ll haunt you when i die another promises to be a major spoiler i ll spoil every episode of game of thrones when you re having a dinner party i ll come down and say something racist but if you re voting for trump you probably don t care the powerful video sponsored by bend the arc jewish action was released to warn future generations not to forget their history and to listen to the wisdom of their elders especially ones that know oppression when they see it we as jews recognize that trump s candidacy has echoed times when the jewish community experienced the dangers of fascism antiimmigration and persecution against religious minorities we ve seen this before and we wanted to make sure that as jews we were speaking out boldly and loudly and making sure it was known the jewish community rejects trump for the platform of hatred and bigotry that he has unleashed watch the powerful ad herefeatured image from the video', 'labels': 1, 'label_names': 'real', 'text_length': 2742}\n",
      "{'text': 'zero hedge the fix is in nbc affiliate accidentally posts election results a week early hillary wins presidency to trump’s mac slavo comments read by people nbc affiliate wrcb tv in chattanooga tennessee has inadvertently posted election night results the results page appears to be similar to what mainstream news networks display on election night including presidential and congressional results the popular vote count electoral votes and percentage of precincts reporting the page a screen shot of which has been sourced from internet archive site the wayback machine is posted below and shows totals for the upcoming presidential race it announces hillary clinton as the winner as jim stone notes the page was pulled directly from the worldnowcom content management platform utilized by major networks like nbc cbs abc and fox and appears to be a nonpublic staging area for news and election results the original page has since been reset click here for full size image though the results information appears on an ftp server at worldnowcom media companies like nbc’s wrcb tv utilize the platform also know as “frankly” to power their news content this can be verified directly a the wrcb web site by scrolling to the very bottom of the page footer which notes that it is “powered by frankly” in addition to national results jim stone has identified another page at the worldnowcom ftp server that appears to show the statebystate presidential election results this page is also accessible in archive format at wayback machine with a line by line breakdown available at stone’s website of interest is that the statebystate results indicate a hillary clinton win in states like texas to florida to and pennsylvania to which have all been identified as states clinton must steal to win the election do these latest election “results” confirm that the fix is in and the vote is rigged if so then we are no longer looking at an election where our votes will count but rather a selection where the winner is determined by those who count the votes related', 'labels': 1, 'label_names': 'real', 'text_length': 2161}\n"
     ]
    },
    {
     "name": "stderr",
     "output_type": "stream",
     "text": [
      "Tokenizing: 100%|██████████| 50466/50466 [00:22<00:00, 2227.71 examples/s]\n",
      "Tokenizing: 100%|██████████| 14419/14419 [00:06<00:00, 2265.30 examples/s]\n",
      "Tokenizing: 100%|██████████| 7210/7210 [00:03<00:00, 2106.11 examples/s]\n"
     ]
    },
    {
     "name": "stdout",
     "output_type": "stream",
     "text": [
      "{'text': 'share this with every offended snowflake in america clamoring for a safe space ', 'labels': 1, 'label_names': 'real', 'text_length': 80, 'input_ids': [101, 3745, 2023, 2007, 2296, 15807, 4586, 10258, 13808, 1999, 2637, 18856, 22591, 4892, 2005, 1037, 3647, 2686, 102, 0, 0, 0, 0, 0, 0, 0, 0, 0, 0, 0, 0, 0, 0, 0, 0, 0, 0, 0, 0, 0, 0, 0, 0, 0, 0, 0, 0, 0, 0, 0, 0, 0, 0, 0, 0, 0, 0, 0, 0, 0, 0, 0, 0, 0, 0, 0, 0, 0, 0, 0, 0, 0, 0, 0, 0, 0, 0, 0, 0, 0, 0, 0, 0, 0, 0, 0, 0, 0, 0, 0, 0, 0, 0, 0, 0, 0, 0, 0, 0, 0, 0, 0, 0, 0, 0, 0, 0, 0, 0, 0, 0, 0, 0, 0, 0, 0, 0, 0, 0, 0, 0, 0, 0, 0, 0, 0, 0, 0, 0, 0, 0, 0, 0, 0, 0, 0, 0, 0, 0, 0, 0, 0, 0, 0, 0, 0, 0, 0, 0, 0, 0, 0, 0, 0, 0, 0, 0, 0, 0, 0, 0, 0, 0, 0, 0, 0, 0, 0, 0, 0, 0, 0, 0, 0, 0, 0, 0, 0, 0, 0, 0, 0, 0, 0, 0, 0, 0, 0, 0, 0, 0, 0, 0, 0, 0, 0, 0, 0, 0, 0, 0, 0, 0, 0, 0, 0, 0, 0, 0, 0, 0, 0, 0, 0, 0, 0, 0, 0, 0, 0, 0, 0, 0, 0, 0, 0, 0, 0, 0, 0, 0, 0, 0, 0, 0, 0, 0, 0, 0, 0, 0, 0, 0, 0, 0, 0, 0, 0, 0, 0, 0, 0, 0, 0, 0, 0, 0, 0, 0, 0, 0, 0, 0, 0, 0, 0, 0, 0, 0, 0, 0, 0, 0, 0, 0, 0, 0, 0, 0, 0, 0, 0, 0, 0, 0, 0, 0, 0, 0, 0, 0, 0, 0, 0, 0, 0, 0, 0, 0, 0, 0, 0, 0, 0, 0, 0, 0, 0, 0, 0, 0, 0, 0, 0, 0, 0, 0, 0, 0, 0, 0, 0, 0, 0, 0, 0, 0, 0, 0, 0, 0, 0, 0, 0, 0, 0, 0, 0, 0, 0, 0, 0, 0, 0, 0, 0, 0, 0, 0, 0, 0, 0, 0, 0, 0, 0, 0, 0, 0, 0, 0, 0, 0, 0, 0, 0, 0, 0, 0, 0, 0, 0, 0, 0, 0, 0, 0, 0, 0, 0, 0, 0, 0, 0, 0, 0, 0, 0, 0, 0, 0, 0, 0, 0, 0, 0, 0, 0, 0, 0, 0, 0, 0, 0, 0, 0, 0, 0, 0, 0, 0, 0, 0, 0, 0, 0, 0, 0, 0, 0, 0, 0, 0, 0, 0, 0, 0, 0, 0, 0, 0, 0, 0, 0, 0, 0, 0, 0, 0, 0, 0, 0, 0, 0, 0, 0, 0, 0, 0, 0, 0, 0, 0, 0, 0, 0, 0, 0, 0, 0, 0, 0, 0, 0, 0, 0, 0, 0, 0, 0, 0, 0, 0, 0, 0, 0, 0, 0, 0, 0, 0, 0, 0, 0, 0, 0, 0, 0, 0, 0, 0, 0, 0, 0, 0, 0, 0, 0, 0, 0, 0, 0, 0, 0, 0, 0, 0, 0, 0, 0, 0, 0], 'token_type_ids': [0, 0, 0, 0, 0, 0, 0, 0, 0, 0, 0, 0, 0, 0, 0, 0, 0, 0, 0, 0, 0, 0, 0, 0, 0, 0, 0, 0, 0, 0, 0, 0, 0, 0, 0, 0, 0, 0, 0, 0, 0, 0, 0, 0, 0, 0, 0, 0, 0, 0, 0, 0, 0, 0, 0, 0, 0, 0, 0, 0, 0, 0, 0, 0, 0, 0, 0, 0, 0, 0, 0, 0, 0, 0, 0, 0, 0, 0, 0, 0, 0, 0, 0, 0, 0, 0, 0, 0, 0, 0, 0, 0, 0, 0, 0, 0, 0, 0, 0, 0, 0, 0, 0, 0, 0, 0, 0, 0, 0, 0, 0, 0, 0, 0, 0, 0, 0, 0, 0, 0, 0, 0, 0, 0, 0, 0, 0, 0, 0, 0, 0, 0, 0, 0, 0, 0, 0, 0, 0, 0, 0, 0, 0, 0, 0, 0, 0, 0, 0, 0, 0, 0, 0, 0, 0, 0, 0, 0, 0, 0, 0, 0, 0, 0, 0, 0, 0, 0, 0, 0, 0, 0, 0, 0, 0, 0, 0, 0, 0, 0, 0, 0, 0, 0, 0, 0, 0, 0, 0, 0, 0, 0, 0, 0, 0, 0, 0, 0, 0, 0, 0, 0, 0, 0, 0, 0, 0, 0, 0, 0, 0, 0, 0, 0, 0, 0, 0, 0, 0, 0, 0, 0, 0, 0, 0, 0, 0, 0, 0, 0, 0, 0, 0, 0, 0, 0, 0, 0, 0, 0, 0, 0, 0, 0, 0, 0, 0, 0, 0, 0, 0, 0, 0, 0, 0, 0, 0, 0, 0, 0, 0, 0, 0, 0, 0, 0, 0, 0, 0, 0, 0, 0, 0, 0, 0, 0, 0, 0, 0, 0, 0, 0, 0, 0, 0, 0, 0, 0, 0, 0, 0, 0, 0, 0, 0, 0, 0, 0, 0, 0, 0, 0, 0, 0, 0, 0, 0, 0, 0, 0, 0, 0, 0, 0, 0, 0, 0, 0, 0, 0, 0, 0, 0, 0, 0, 0, 0, 0, 0, 0, 0, 0, 0, 0, 0, 0, 0, 0, 0, 0, 0, 0, 0, 0, 0, 0, 0, 0, 0, 0, 0, 0, 0, 0, 0, 0, 0, 0, 0, 0, 0, 0, 0, 0, 0, 0, 0, 0, 0, 0, 0, 0, 0, 0, 0, 0, 0, 0, 0, 0, 0, 0, 0, 0, 0, 0, 0, 0, 0, 0, 0, 0, 0, 0, 0, 0, 0, 0, 0, 0, 0, 0, 0, 0, 0, 0, 0, 0, 0, 0, 0, 0, 0, 0, 0, 0, 0, 0, 0, 0, 0, 0, 0, 0, 0, 0, 0, 0, 0, 0, 0, 0, 0, 0, 0, 0, 0, 0, 0, 0, 0, 0, 0, 0, 0, 0, 0, 0, 0, 0, 0, 0, 0, 0, 0, 0, 0, 0, 0, 0, 0, 0, 0, 0, 0, 0, 0, 0, 0, 0, 0, 0, 0, 0, 0, 0, 0, 0, 0, 0, 0, 0, 0, 0, 0, 0, 0, 0, 0, 0, 0, 0, 0, 0, 0, 0, 0, 0, 0, 0, 0, 0, 0, 0, 0, 0, 0, 0, 0, 0, 0, 0], 'attention_mask': [1, 1, 1, 1, 1, 1, 1, 1, 1, 1, 1, 1, 1, 1, 1, 1, 1, 1, 1, 0, 0, 0, 0, 0, 0, 0, 0, 0, 0, 0, 0, 0, 0, 0, 0, 0, 0, 0, 0, 0, 0, 0, 0, 0, 0, 0, 0, 0, 0, 0, 0, 0, 0, 0, 0, 0, 0, 0, 0, 0, 0, 0, 0, 0, 0, 0, 0, 0, 0, 0, 0, 0, 0, 0, 0, 0, 0, 0, 0, 0, 0, 0, 0, 0, 0, 0, 0, 0, 0, 0, 0, 0, 0, 0, 0, 0, 0, 0, 0, 0, 0, 0, 0, 0, 0, 0, 0, 0, 0, 0, 0, 0, 0, 0, 0, 0, 0, 0, 0, 0, 0, 0, 0, 0, 0, 0, 0, 0, 0, 0, 0, 0, 0, 0, 0, 0, 0, 0, 0, 0, 0, 0, 0, 0, 0, 0, 0, 0, 0, 0, 0, 0, 0, 0, 0, 0, 0, 0, 0, 0, 0, 0, 0, 0, 0, 0, 0, 0, 0, 0, 0, 0, 0, 0, 0, 0, 0, 0, 0, 0, 0, 0, 0, 0, 0, 0, 0, 0, 0, 0, 0, 0, 0, 0, 0, 0, 0, 0, 0, 0, 0, 0, 0, 0, 0, 0, 0, 0, 0, 0, 0, 0, 0, 0, 0, 0, 0, 0, 0, 0, 0, 0, 0, 0, 0, 0, 0, 0, 0, 0, 0, 0, 0, 0, 0, 0, 0, 0, 0, 0, 0, 0, 0, 0, 0, 0, 0, 0, 0, 0, 0, 0, 0, 0, 0, 0, 0, 0, 0, 0, 0, 0, 0, 0, 0, 0, 0, 0, 0, 0, 0, 0, 0, 0, 0, 0, 0, 0, 0, 0, 0, 0, 0, 0, 0, 0, 0, 0, 0, 0, 0, 0, 0, 0, 0, 0, 0, 0, 0, 0, 0, 0, 0, 0, 0, 0, 0, 0, 0, 0, 0, 0, 0, 0, 0, 0, 0, 0, 0, 0, 0, 0, 0, 0, 0, 0, 0, 0, 0, 0, 0, 0, 0, 0, 0, 0, 0, 0, 0, 0, 0, 0, 0, 0, 0, 0, 0, 0, 0, 0, 0, 0, 0, 0, 0, 0, 0, 0, 0, 0, 0, 0, 0, 0, 0, 0, 0, 0, 0, 0, 0, 0, 0, 0, 0, 0, 0, 0, 0, 0, 0, 0, 0, 0, 0, 0, 0, 0, 0, 0, 0, 0, 0, 0, 0, 0, 0, 0, 0, 0, 0, 0, 0, 0, 0, 0, 0, 0, 0, 0, 0, 0, 0, 0, 0, 0, 0, 0, 0, 0, 0, 0, 0, 0, 0, 0, 0, 0, 0, 0, 0, 0, 0, 0, 0, 0, 0, 0, 0, 0, 0, 0, 0, 0, 0, 0, 0, 0, 0, 0, 0, 0, 0, 0, 0, 0, 0, 0, 0, 0, 0, 0, 0, 0, 0, 0, 0, 0, 0, 0, 0, 0, 0, 0, 0, 0, 0, 0, 0, 0, 0, 0, 0, 0, 0, 0, 0, 0, 0, 0, 0, 0, 0, 0, 0, 0, 0, 0, 0, 0, 0, 0, 0, 0, 0, 0, 0, 0, 0, 0, 0, 0]}\n"
     ]
    }
   ],
   "source": [
    "# 3.1 Tokenizing\n",
    "\n",
    "# Initialize the tokenizer\n",
    "model_ckpt = \"bert-base-uncased\"\n",
    "tokenizer = AutoTokenizer.from_pretrained(model_ckpt)\n",
    "\n",
    "# Check vocabulary size\n",
    "print(f\"Vocabulary size: {len(tokenizer.vocab)}\")\n",
    "print(f\"Tokenizer model max length: {tokenizer.model_max_length}\")\n",
    "\n",
    "# Perform train-test-validation split\n",
    "train, test = train_test_split(df, test_size=0.3, stratify=df['labels'])\n",
    "test, validation = train_test_split(test, test_size=1/3, stratify=test['labels'])\n",
    "\n",
    "print(train.shape, test.shape, validation.shape)\n",
    "\n",
    "# Convert dataframe to dictionary\n",
    "dataset = DatasetDict(\n",
    "    {'train': Dataset.from_pandas(train, preserve_index=False),\n",
    "     'test': Dataset.from_pandas(test, preserve_index=False),\n",
    "     'validation': Dataset.from_pandas(validation, preserve_index=False)}\n",
    ")\n",
    "\n",
    "# Check dataset structure\n",
    "print(dataset)\n",
    "\n",
    "# Let's have a look at some entries\n",
    "print(dataset['train'][0])\n",
    "print(dataset['train'][1])\n",
    "print(dataset['train'][2])\n",
    "\n",
    "# 3.2 Tokenization Function¶\n",
    "\n",
    "def tokenize_with_progress(batch):\n",
    "    return tokenizer(batch['text'], padding=True, truncation=True, max_length=512)\n",
    "\n",
    "# Add progress bar for tokenization\n",
    "encoded_dataset = dataset.map(\n",
    "    tokenize_with_progress,\n",
    "    batched=True,\n",
    "    batch_size=500,\n",
    "    desc=\"Tokenizing\"\n",
    ")\n",
    "\n",
    "# Check some tokenized outputs\n",
    "print(encoded_dataset['train'][0])\n",
    "\n",
    "label2id = {x['label_names']:x['labels'] for x in dataset['train']}\n",
    "id2label = {v:k for k,v in label2id.items()}\n"
   ]
  },
  {
   "cell_type": "markdown",
   "id": "bc6438a8",
   "metadata": {},
   "source": [
    "**4.** Model preparation"
   ]
  },
  {
   "cell_type": "code",
   "execution_count": 7,
   "id": "4490caf2",
   "metadata": {},
   "outputs": [
    {
     "name": "stderr",
     "output_type": "stream",
     "text": [
      "Some weights of BertForSequenceClassification were not initialized from the model checkpoint at bert-base-uncased and are newly initialized: ['classifier.bias', 'classifier.weight']\n",
      "You should probably TRAIN this model on a down-stream task to be able to use it for predictions and inference.\n"
     ]
    }
   ],
   "source": [
    "config = AutoConfig.from_pretrained(model_ckpt,label2id=label2id,id2label=id2label)\n",
    "\n",
    "model = AutoModelForSequenceClassification.from_pretrained(model_ckpt,config=config).to(device)\n",
    "\n",
    "peft_config = LoraConfig(\n",
    "    task_type=\"SEQ_CLS\",\n",
    "    r=32,\n",
    "    lora_alpha=64,\n",
    "    lora_dropout=0.05,\n",
    "    target_modules = [\"query\"]\n",
    ")\n",
    "\n",
    "model = get_peft_model(model,peft_config)\n",
    "\n",
    "\n",
    "def compute_metrics(eval_pred):\n",
    "    logits, labels = eval_pred\n",
    "    predictions = np.argmax(logits, axis=-1)\n",
    "    return {\n",
    "        \"accuracy\": accuracy_score(labels, predictions),\n",
    "        \"f1\": f1_score(labels, predictions, average=\"weighted\"),\n",
    "        \"precision\": precision_score(labels, predictions, average=\"weighted\"),\n",
    "        \"recall\": recall_score(labels, predictions, average=\"weighted\"),\n",
    "    }\n",
    "\n",
    "\n",
    "data_collator = DataCollatorWithPadding(tokenizer=tokenizer)\n",
    "\n",
    "training_args = TrainingArguments(\n",
    "    output_dir=\"./results\",\n",
    "    eval_strategy=\"epoch\",\n",
    "    save_strategy=\"epoch\",\n",
    "    logging_strategy=\"epoch\",\n",
    "    learning_rate=2e-5,\n",
    "    per_device_train_batch_size=16,\n",
    "    per_device_eval_batch_size=32,\n",
    "    num_train_epochs=3,\n",
    "    weight_decay=0.01,\n",
    "    load_best_model_at_end=True,\n",
    "    metric_for_best_model=\"f1\",\n",
    "    save_total_limit=2,\n",
    "    report_to=\"none\",\n",
    ")"
   ]
  },
  {
   "cell_type": "markdown",
   "id": "033399c0",
   "metadata": {},
   "source": [
    "**5.** Fine-tuning"
   ]
  },
  {
   "cell_type": "code",
   "execution_count": 8,
   "id": "58e337e6",
   "metadata": {},
   "outputs": [
    {
     "name": "stderr",
     "output_type": "stream",
     "text": [
      "/tmp/ipykernel_1528/40142889.py:1: FutureWarning: `tokenizer` is deprecated and will be removed in version 5.0.0 for `Trainer.__init__`. Use `processing_class` instead.\n",
      "  trainer = Trainer(\n",
      "No label_names provided for model class `PeftModelForSequenceClassification`. Since `PeftModel` hides base models input arguments, if label_names is not given, label_names can't be set automatically within `Trainer`. Note that empty label_names list will be used instead.\n"
     ]
    },
    {
     "data": {
      "text/html": [
       "\n",
       "    <div>\n",
       "      \n",
       "      <progress value='9465' max='9465' style='width:300px; height:20px; vertical-align: middle;'></progress>\n",
       "      [9465/9465 1:54:54, Epoch 3/3]\n",
       "    </div>\n",
       "    <table border=\"1\" class=\"dataframe\">\n",
       "  <thead>\n",
       " <tr style=\"text-align: left;\">\n",
       "      <th>Epoch</th>\n",
       "      <th>Training Loss</th>\n",
       "      <th>Validation Loss</th>\n",
       "      <th>Accuracy</th>\n",
       "      <th>F1</th>\n",
       "      <th>Precision</th>\n",
       "      <th>Recall</th>\n",
       "    </tr>\n",
       "  </thead>\n",
       "  <tbody>\n",
       "    <tr>\n",
       "      <td>1</td>\n",
       "      <td>0.285900</td>\n",
       "      <td>0.154074</td>\n",
       "      <td>0.943689</td>\n",
       "      <td>0.943700</td>\n",
       "      <td>0.944019</td>\n",
       "      <td>0.943689</td>\n",
       "    </tr>\n",
       "    <tr>\n",
       "      <td>2</td>\n",
       "      <td>0.147600</td>\n",
       "      <td>0.119309</td>\n",
       "      <td>0.960610</td>\n",
       "      <td>0.960617</td>\n",
       "      <td>0.960806</td>\n",
       "      <td>0.960610</td>\n",
       "    </tr>\n",
       "    <tr>\n",
       "      <td>3</td>\n",
       "      <td>0.125700</td>\n",
       "      <td>0.115454</td>\n",
       "      <td>0.961997</td>\n",
       "      <td>0.962004</td>\n",
       "      <td>0.962172</td>\n",
       "      <td>0.961997</td>\n",
       "    </tr>\n",
       "  </tbody>\n",
       "</table><p>"
      ],
      "text/plain": [
       "<IPython.core.display.HTML object>"
      ]
     },
     "metadata": {},
     "output_type": "display_data"
    },
    {
     "data": {
      "text/plain": [
       "TrainOutput(global_step=9465, training_loss=0.1863830727619024, metrics={'train_runtime': 6895.7606, 'train_samples_per_second': 21.955, 'train_steps_per_second': 1.373, 'total_flos': 4.010952686535475e+16, 'train_loss': 0.1863830727619024, 'epoch': 3.0})"
      ]
     },
     "execution_count": 8,
     "metadata": {},
     "output_type": "execute_result"
    }
   ],
   "source": [
    "trainer = Trainer(\n",
    "    model=model,\n",
    "    args=training_args,\n",
    "    train_dataset=encoded_dataset[\"train\"],\n",
    "    eval_dataset=encoded_dataset[\"validation\"],\n",
    "    tokenizer=tokenizer,\n",
    "    data_collator=data_collator,\n",
    "    compute_metrics=compute_metrics,\n",
    ")\n",
    "\n",
    "trainer.train()"
   ]
  },
  {
   "cell_type": "markdown",
   "id": "42becbec",
   "metadata": {},
   "source": [
    "**6.** Evaluation"
   ]
  },
  {
   "cell_type": "code",
   "execution_count": 9,
   "id": "e2d6d762",
   "metadata": {},
   "outputs": [
    {
     "data": {
      "text/html": [],
      "text/plain": [
       "<IPython.core.display.HTML object>"
      ]
     },
     "metadata": {},
     "output_type": "display_data"
    },
    {
     "name": "stdout",
     "output_type": "stream",
     "text": [
      "Test set evaluation:\n",
      "eval_loss: 0.1220\n",
      "eval_accuracy: 0.9621\n",
      "eval_f1: 0.9621\n",
      "eval_precision: 0.9623\n",
      "eval_recall: 0.9621\n",
      "eval_runtime: 242.7329\n",
      "eval_samples_per_second: 59.4030\n",
      "eval_steps_per_second: 1.8580\n",
      "epoch: 3.0000\n"
     ]
    }
   ],
   "source": [
    "results = trainer.evaluate(encoded_dataset[\"test\"])\n",
    "print(\"Test set evaluation:\")\n",
    "for k, v in results.items():\n",
    "    print(f\"{k}: {v:.4f}\")"
   ]
  },
  {
   "cell_type": "markdown",
   "id": "a7c9da9b",
   "metadata": {},
   "source": [
    "**7.** Analizing the Predictions"
   ]
  },
  {
   "cell_type": "code",
   "execution_count": 10,
   "id": "d06d54b2",
   "metadata": {},
   "outputs": [
    {
     "data": {
      "image/png": "[encoded data removed]",
      "text/plain": [
       "<Figure size 640x480 with 2 Axes>"
      ]
     },
     "metadata": {},
     "output_type": "display_data"
    }
   ],
   "source": [
    "preds_output = trainer.predict(encoded_dataset['test'])\n",
    "\n",
    "y_pred = np.argmax(preds_output.predictions,axis=1)\n",
    "\n",
    "y_true = encoded_dataset['test'][:]['labels']\n",
    "\n",
    "cm = confusion_matrix(y_true,y_pred)\n",
    "\n",
    "ax = sns.heatmap(cm,annot=True)\n",
    "ax.xaxis.set_ticklabels(['fake news','real news'])\n",
    "ax.yaxis.set_ticklabels(['fake news','real news'])\n",
    "ax.set_title('Confusion Matrix - HF Transformers',fontsize=18)\n",
    "\n",
    "plt.tight_layout()"
   ]
  },
  {
   "cell_type": "markdown",
   "id": "b86692e6",
   "metadata": {},
   "source": [
    "**8.** Saving the model"
   ]
  },
  {
   "cell_type": "code",
   "execution_count": 11,
   "id": "de0f8de1",
   "metadata": {},
   "outputs": [
    {
     "data": {
      "text/plain": [
       "('./model_directory/tokenizer_config.json',\n",
       " './model_directory/special_tokens_map.json',\n",
       " './model_directory/vocab.txt',\n",
       " './model_directory/added_tokens.json',\n",
       " './model_directory/tokenizer.json')"
      ]
     },
     "execution_count": 11,
     "metadata": {},
     "output_type": "execute_result"
    }
   ],
   "source": [
    "model.save_pretrained(\"./model_directory\")\n",
    "tokenizer.save_pretrained(\"./model_directory\")"
   ]
  },
  {
   "cell_type": "markdown",
   "id": "99f83953",
   "metadata": {},
   "source": [
    "**9.** Conclusions"
   ]
  },
  {
   "cell_type": "code",
   "execution_count": null,
   "id": "9b26f71c",
   "metadata": {},
   "outputs": [],
   "source": []
  }
 ],
 "metadata": {
  "kernelspec": {
   "display_name": ".venv",
   "language": "python",
   "name": "python3"
  },
  "language_info": {
   "codemirror_mode": {
    "name": "ipython",
    "version": 3
   },
   "file_extension": ".py",
   "mimetype": "text/x-python",
   "name": "python",
   "nbconvert_exporter": "python",
   "pygments_lexer": "ipython3",
   "version": "3.10.12"
  }
 },
 "nbformat": 4,
 "nbformat_minor": 5
}
