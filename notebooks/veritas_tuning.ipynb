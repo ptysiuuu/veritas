{
 "cells": [
  {
   "cell_type": "markdown",
   "id": "e02fe54d",
   "metadata": {},
   "source": [
    "# Veritas – Fine-Tuning Transformer Model for Fake News Detection\n",
    "\n",
    "This notebook documents the end-to-end process of fine-tuning a transformer-based model (e.g., BERT) for binary classification: detecting whether a given text is a **real** or **fake** news item.\n",
    "\n",
    "We use Hugging Face Transformers and Datasets libraries for efficient model training and evaluation.\n"
   ]
  },
  {
   "cell_type": "markdown",
   "id": "38e0aa4a",
   "metadata": {},
   "source": [
    "**1.** Imports"
   ]
  },
  {
   "cell_type": "code",
   "execution_count": 14,
   "id": "da6f5f57",
   "metadata": {},
   "outputs": [
    {
     "data": {
      "text/plain": [
       "device(type='cuda')"
      ]
     },
     "execution_count": 14,
     "metadata": {},
     "output_type": "execute_result"
    }
   ],
   "source": [
    "from transformers import AutoTokenizer, AutoModelForSequenceClassification, Trainer, TrainingArguments, AutoConfig, DataCollatorWithPadding\n",
    "from matplotlib import pyplot as plt\n",
    "from sklearn.model_selection import train_test_split\n",
    "from sklearn.metrics import accuracy_score, f1_score, precision_score, recall_score, confusion_matrix\n",
    "from peft import PeftModel, PeftConfig, get_peft_model, LoraConfig\n",
    "from datasets import Dataset, DatasetDict\n",
    "import kagglehub\n",
    "import pandas as pd\n",
    "import re\n",
    "import torch\n",
    "import string\n",
    "import numpy as np\n",
    "import seaborn as sns\n",
    "\n",
    "device = torch.device('cuda' if torch.cuda.is_available() else 'cpu')\n",
    "device"
   ]
  },
  {
   "cell_type": "markdown",
   "id": "33525824",
   "metadata": {},
   "source": [
    "**2.** Data loading"
   ]
  },
  {
   "cell_type": "code",
   "execution_count": 15,
   "id": "d79036b7",
   "metadata": {},
   "outputs": [
    {
     "name": "stdout",
     "output_type": "stream",
     "text": [
      "Path to dataset files: /home/ptysiu/.cache/kagglehub/datasets/saurabhshahane/fake-news-classification/versions/77/WELFake_Dataset.csv\n"
     ]
    },
    {
     "data": {
      "text/html": [
       "<div>\n",
       "<style scoped>\n",
       "    .dataframe tbody tr th:only-of-type {\n",
       "        vertical-align: middle;\n",
       "    }\n",
       "\n",
       "    .dataframe tbody tr th {\n",
       "        vertical-align: top;\n",
       "    }\n",
       "\n",
       "    .dataframe thead th {\n",
       "        text-align: right;\n",
       "    }\n",
       "</style>\n",
       "<table border=\"1\" class=\"dataframe\">\n",
       "  <thead>\n",
       "    <tr style=\"text-align: right;\">\n",
       "      <th></th>\n",
       "      <th>Unnamed: 0</th>\n",
       "      <th>title</th>\n",
       "      <th>text</th>\n",
       "      <th>label</th>\n",
       "    </tr>\n",
       "  </thead>\n",
       "  <tbody>\n",
       "    <tr>\n",
       "      <th>0</th>\n",
       "      <td>0</td>\n",
       "      <td>LAW ENFORCEMENT ON HIGH ALERT Following Threat...</td>\n",
       "      <td>No comment is expected from Barack Obama Membe...</td>\n",
       "      <td>1</td>\n",
       "    </tr>\n",
       "    <tr>\n",
       "      <th>1</th>\n",
       "      <td>1</td>\n",
       "      <td>NaN</td>\n",
       "      <td>Did they post their votes for Hillary already?</td>\n",
       "      <td>1</td>\n",
       "    </tr>\n",
       "    <tr>\n",
       "      <th>2</th>\n",
       "      <td>2</td>\n",
       "      <td>UNBELIEVABLE! OBAMA’S ATTORNEY GENERAL SAYS MO...</td>\n",
       "      <td>Now, most of the demonstrators gathered last ...</td>\n",
       "      <td>1</td>\n",
       "    </tr>\n",
       "    <tr>\n",
       "      <th>3</th>\n",
       "      <td>3</td>\n",
       "      <td>Bobby Jindal, raised Hindu, uses story of Chri...</td>\n",
       "      <td>A dozen politically active pastors came here f...</td>\n",
       "      <td>0</td>\n",
       "    </tr>\n",
       "    <tr>\n",
       "      <th>4</th>\n",
       "      <td>4</td>\n",
       "      <td>SATAN 2: Russia unvelis an image of its terrif...</td>\n",
       "      <td>The RS-28 Sarmat missile, dubbed Satan 2, will...</td>\n",
       "      <td>1</td>\n",
       "    </tr>\n",
       "  </tbody>\n",
       "</table>\n",
       "</div>"
      ],
      "text/plain": [
       "   Unnamed: 0                                              title  \\\n",
       "0           0  LAW ENFORCEMENT ON HIGH ALERT Following Threat...   \n",
       "1           1                                                NaN   \n",
       "2           2  UNBELIEVABLE! OBAMA’S ATTORNEY GENERAL SAYS MO...   \n",
       "3           3  Bobby Jindal, raised Hindu, uses story of Chri...   \n",
       "4           4  SATAN 2: Russia unvelis an image of its terrif...   \n",
       "\n",
       "                                                text  label  \n",
       "0  No comment is expected from Barack Obama Membe...      1  \n",
       "1     Did they post their votes for Hillary already?      1  \n",
       "2   Now, most of the demonstrators gathered last ...      1  \n",
       "3  A dozen politically active pastors came here f...      0  \n",
       "4  The RS-28 Sarmat missile, dubbed Satan 2, will...      1  "
      ]
     },
     "execution_count": 15,
     "metadata": {},
     "output_type": "execute_result"
    }
   ],
   "source": [
    "path = kagglehub.dataset_download(\"saurabhshahane/fake-news-classification\")\n",
    "path += \"/WELFake_Dataset.csv\"\n",
    "\n",
    "print(\"Path to dataset files:\", path)\n",
    "df = pd.read_csv(path, encoding=\"utf-8\")\n",
    "df.head()\n"
   ]
  },
  {
   "cell_type": "code",
   "execution_count": 16,
   "id": "2f71998e",
   "metadata": {},
   "outputs": [
    {
     "name": "stdout",
     "output_type": "stream",
     "text": [
      "                                                text  labels label_names\n",
      "0  No comment is expected from Barack Obama Membe...       1        real\n",
      "1     Did they post their votes for Hillary already?       1        real\n",
      "2   Now, most of the demonstrators gathered last ...       1        real\n",
      "3  A dozen politically active pastors came here f...       0        fake\n",
      "4  The RS-28 Sarmat missile, dubbed Satan 2, will...       1        real\n"
     ]
    },
    {
     "data": {
      "image/png": "[encoded data removed]",
      "text/plain": [
       "<Figure size 640x480 with 1 Axes>"
      ]
     },
     "metadata": {},
     "output_type": "display_data"
    }
   ],
   "source": [
    "df.drop(columns=['title', 'Unnamed: 0'],axis=1,inplace=True)\n",
    "df.rename(columns={'label':'labels'},inplace=True)\n",
    "news_map = {1:'real',0:'fake'}\n",
    "df['label_names'] = df['labels'].map(news_map)\n",
    "values = df['labels']\n",
    "\n",
    "print(df.head())\n",
    "\n",
    "plt.hist(values, bins=2, edgecolor='black', rwidth=0.8)\n",
    "plt.xticks([0, 1], ['False', 'True'])\n",
    "plt.xlabel(\"Label\")\n",
    "plt.ylabel(\"Count\")\n",
    "plt.title(\"Distribution of Fake (0) and Real (1) Labels\")\n",
    "plt.grid(True, linestyle=\"--\", alpha=0.5)\n",
    "\n",
    "plt.show()\n"
   ]
  },
  {
   "cell_type": "code",
   "execution_count": 17,
   "id": "19ca359f",
   "metadata": {},
   "outputs": [
    {
     "name": "stdout",
     "output_type": "stream",
     "text": [
      "count     72134.000000\n",
      "mean       3268.387834\n",
      "std        3732.877545\n",
      "min           0.000000\n",
      "25%        1377.000000\n",
      "50%        2424.000000\n",
      "75%        4059.000000\n",
      "max      142961.000000\n",
      "Name: text_length, dtype: float64\n"
     ]
    },
    {
     "data": {
      "image/png": "[encoded data removed]",
      "text/plain": [
       "<Figure size 640x480 with 1 Axes>"
      ]
     },
     "metadata": {},
     "output_type": "display_data"
    }
   ],
   "source": [
    "df['text_length'] = df['text'].apply(lambda x: len(str(x)) if pd.notnull(x) else 0)\n",
    "\n",
    "print(df['text_length'].describe())\n",
    "\n",
    "plt.hist(df['text_length'], bins=50, edgecolor='black')\n",
    "plt.title(\"Distribution of Text Lengths\")\n",
    "plt.xlabel(\"Length (characters)\")\n",
    "plt.ylabel(\"Count\")\n",
    "plt.show()\n"
   ]
  },
  {
   "cell_type": "code",
   "execution_count": 18,
   "id": "56893404",
   "metadata": {},
   "outputs": [
    {
     "data": {
      "text/plain": [
       "0    no comment is expected from barack obama membe...\n",
       "1        did they post their votes for hillary already\n",
       "2     now most of the demonstrators gathered last n...\n",
       "3    a dozen politically active pastors came here f...\n",
       "4    the rs sarmat missile dubbed satan will replac...\n",
       "Name: text, dtype: object"
      ]
     },
     "execution_count": 18,
     "metadata": {},
     "output_type": "execute_result"
    }
   ],
   "source": [
    "# Cleaning the text - lowercase conversion, whitespace and special symbols deletion\n",
    "def clean_text(text):\n",
    "    text = text.lower()\n",
    "    text = text.replace('\\n', ' ')\n",
    "    text = re.sub(r'\\d+', ' ', text)\n",
    "    text = text.translate(str.maketrans(' ', ' ', string.punctuation))\n",
    "    text = re.sub(r'\\s+', ' ', text, flags=re.I)\n",
    "    return text\n",
    "\n",
    "df.dropna(axis=0,inplace=True)\n",
    "\n",
    "df['text'] = df['text'].apply(clean_text)\n",
    "\n",
    "df['text'].head()"
   ]
  },
  {
   "cell_type": "markdown",
   "id": "01532f1e",
   "metadata": {},
   "source": [
    "**3.** Tokenizing the data"
   ]
  },
  {
   "cell_type": "code",
   "execution_count": 19,
   "id": "adae65dd",
   "metadata": {},
   "outputs": [
    {
     "name": "stdout",
     "output_type": "stream",
     "text": [
      "Vocabulary size: 30522\n",
      "Tokenizer model max length: 512\n",
      "(50466, 4) (14419, 4) (7210, 4)\n",
      "DatasetDict({\n",
      "    train: Dataset({\n",
      "        features: ['text', 'labels', 'label_names', 'text_length'],\n",
      "        num_rows: 50466\n",
      "    })\n",
      "    test: Dataset({\n",
      "        features: ['text', 'labels', 'label_names', 'text_length'],\n",
      "        num_rows: 14419\n",
      "    })\n",
      "    validation: Dataset({\n",
      "        features: ['text', 'labels', 'label_names', 'text_length'],\n",
      "        num_rows: 7210\n",
      "    })\n",
      "})\n",
      "{'text': 'when allie mangel learned that she was losing some of her vision because of a rare condition called susac’s syndrome the last thing on her mind was figuring out how to make her car lease payments after her doctor notified the california department of motor vehicles last november that she should not be allowed to drive and her license was subsequently suspended leasing a ford edge at a month became an unnecessary expense or so she thought ms mangel a youth programming coordinator in san diego discovered that even though she was not legally allowed to drive she was still legally obligated to make her lease payments “ford credit and the dealer told me that the only way i could get out of the lease was to die or join the military” ms mangel said she had learned the hard way what many people may not realize even though leasing has become an increasingly common and seemingly affordable alternative to buying a car a car lease agreement is like any other contract and unless specific reasons are stated in the agreement allowing the lessee to end the lease the signer must make the payments whether one can drive or not after her diagnosis ms mangel was in the hospital for three weeks and out of work for a total of five and running short of money “i was a mess” ms mangel recalled “i was going through all these things and ford would not budge i was in tears and didn’t know what to do ” ms mangel had signed a lease agreement spelling out the terms of the contract and ending the lease early without penalty was not covered the rules are the rules according to margaret mellott a spokeswoman for ford motor credit “all ford credit lease agreements state very clearly the obligations when one turns in a car before the end of a lease agreement” ms mellott said “i’m not aware of any exceptions being made ” ford credit and most other vehicle leasing companies do give lessees options for breaking the contract but the terms can be severe ms mangel could have returned the vehicle to the dealer and then paid the difference between the amount owed on her payments and the value of the car if sold at auction in her case that would have been an unbearable burden about or she could have tried to sell her lease to a third party through a company but with membership and lease transfer fees that would have also cost her more than she could afford “a friend tried to do that’’ she said “and he received no interest after it being listed for weeks ” some lessors may demand payment of all the remaining payments plus penalties if the lessee decides simply to walk away from the lease and have the vehicle repossessed the person’s credit rating will suffer leasing a vehicle of course is not the same as purchasing one rather it’s more akin to renting an apartment as with any rental one never actually owns the property under a vehicle lease the lessee agrees to make payments for a fixed number of years those payments equal the difference between the value of the car when first leased and its predicted residual wholesale value at the end of the lease plus interest because the entire value of the car is not being financed the payments are less on a monthly basis than they would be if the vehicle were purchased over the same period that is a main reason that leasing is so popular it lets consumers drive cars that are more expensive than those they might be able to afford to buy when the vehicle is returned at the end of the lease the only additional costs are those incurred if the vehicle was driven more than the maximum mileage any amount due for damage beyond normal wear and tear and any fees the lessee may also decide to purchase the vehicle for that contracted residual value one reason car leases tend to be so inflexible is that the deal is a contract the dealer signs the lease with the customer and then assigns the contract to a leasing company leases can be voided if the original agreement was made under untruthful conditions — if the lessee is a minor for example or does not possess a valid driver’s license in those cases the leasing company would not want to be part of a fraudulent contract “this is not as rare as one would think — people do fraudulent deals all the time” said randall mccathren managing director of the association of consumer vehicle lessors a trade group in addition if the lease terms or the vehicle was misrepresented the lessee can try to void the lease under each state’s laws on unfair and deceptive acts and practices mr mccathren said but in a legally struck deal even death will not necessarily free one from a lease obligation typically the dead person’s estate becomes liable for the obligation although some car finance companies will make exceptions still it never hurts to try to seek concessions “it absolutely pays to contact the leaseholder and try to work out some consideration” mr mccathren said he noted that leasing companies will typically defer payments if a lessee is in the hospital for a limited period of time only one action will guarantee that someone is able to break any company’s vehicle lease under the federal servicemembers civil relief act a person who has enlisted in the armed services and is to be assigned to a location outside the continental united states for more than six months can terminate a vehicle lease without penalty but for those who are not joining the military the best bet for getting out of a vehicle lease is to try to sell it to a third party companies like leasetrader com and swapalease com act as brokers and for a fee will try to match lease sellers and buyers but the manufacturers of some vehicles including land rovers leased through land rover financial group and volvos leased through volvo car financial services do not allow transfer of leases swapalease maintains a list of vehicle manufacturers’ leasing policies on its website some leasing companies including ford motor credit and financial services will allow a lease obligation to be forgiven upon the death of the lessee under mercedes’s customer bereavement program when the company learns of the death of a lessee it sends a condolence letter to the family as well as a leather journal and pen to help it manage the estate’s obligations if the mercedes lease account is current the family can choose to return the vehicle within days and owe nothing further if the family decides to keep leasing the vehicle and the new lessee meets credit criteria no transfer fee is charged ford motor credit’s peace of mind program allows the family of a deceased lessee with a death certificate to return the vehicle within days of the death and the lease obligation will be excused notifying the company of the death also prevents any company collection activity over the next several weeks ms mangel as things turned out was more fortunate than she had expected her vision stabilized a few months after she lost her license and she was able to drive again in the interim her father covered the lease payments but the terms and conditions of her lease made her realize that while the payments may be lower leasing a vehicle can be more onerous than buying one “i don’t want to lease again ever” ms mangel said', 'labels': 0, 'label_names': 'fake', 'text_length': 7374}\n",
      "{'text': 'washington reuters facebook inc fbo chief operating officer sheryl sandberg said on thursday the company was committed to helping us congressional investigators publicly release russiabacked political ads that ran during the us election things happened on our platform in this election that should not have happened sandberg said in an interview in washington with axios news that was broadcast on its website we told congress and the intelligence committees that when they are ready to release the ads we are ready to help them axios asked sandberg what the world s largest social network knew about the extent of russia s use of its platform and if ads on facebook that had been placed by russian accounts and donald trump s presidential campaign had overlapped in terms of target audiences she appeared to sidestep the questions and said only that targeting on facebook was often very broad the interview was the first by a senior facebook executive since the company disclosed last month that it had found some politically divisive ads believed to have been bought by russia before and after the presidential campaign us intelligence agencies have concluded that russia used cyberenabled means in an attempt to help trump win the white house an allegation the kremlin has denied sandberg was in washington for meetings with us lawmakers sandberg told the congressional black caucus on thursday that facebook planned to add an africanamerican to its board of directors a source familiar with the closeddoor meeting said but she offered no details the board has been criticized for its lack of diversity she and two other facebook executives erin egan and elliot schrage also met privately with representative jackie speier a california democrat and member of the house intelligence committee facebook and other major internet companies including alphabet s google googlo and twitter twtrn are on the defensive as they try to limit fallout from a torrent of revelations about how moscow sought to use their platforms to sow discord in the united states and influence the election sandberg told axios that facebook began hearing rumors around election day last november of russian attempts to use the platform to spread propaganda but did not give a precise timeline about when the company began its review sandberg said she supported the public release of those ads and the pages to which they were connected information about how the ads targeted specific types of users would also be released she said asked if facebook contributed to democratic candidate hillary clinton s defeat last year sandberg an open clinton supporter during the campaign did not answer directly but said it was important the website was free from abuse during any election in any country congressional committees and special counsel robert mueller are investigating russian interference in the election including whether there was any collusion between trump associates and moscow trump has denied that there was any collusion between his campaign and associates and russia sandberg acknowledged that the company had erred in how it handled the issue of foreign interference last year it s not just that we apologize we re angry we re upset but what we really owe the american people is determination to do a better job of preventing foreign meddling she said we don t want this kind of foreign interference on facebook sandberg said she said the company had been too permissive at times in terms of how advertisers were allowed to target users sandberg said it was important to protect free expression on facebook and that if the russian ads had been bought by legitimate accounts instead of fraudulent ones many would have been allowed to run on the site she criticized twitter s decision this week to remove a campaign video from republican representative marsha blackburn who is running for a us senate seat in tennessee twitter took down the video saying a remark blackburn made about opposing abortion was inflammatory twitter later reversed its decision in that ad there are a lot of things that people don t like that i don t like but the question is should divisive political or issue ads run our answer is yes because when you cut off speech for one person you cut off speech for all people she said sandberg said facebook wanted other internet companies to work toward making ad purchases more transparent and she said facebook was talking with lawmakers who want to introduce legislation on the issue representatives from facebook google and twitter are expected to testify about russian influence at hearings before the senate and house intelligence committees on nov ', 'labels': 0, 'label_names': 'fake', 'text_length': 4786}\n",
      "{'text': 'a black woman went into a fit of rage after she spotted a confederate battle flag on a car at a local festival ybia anderson posted a video of herself confronting a man who brought his dukes of hazzard inspired general lee car to the highland creek heritage festival here s what she said on her facebook page at this racistass highland creek heritage festival where a car featuring two confederate flags is being celebrated this wannabe hillbilly is trying to educate me on the civil war guess he doesn t realize his side lost the video is sideways but you ll get the point anderson shrieked this racist car has not one but two confederate flags on it the astonished owner of the car attempted to explain but anderson was just interested in getting the car removed asap people who look exactly like me and my sons died were murdered because of that flag it has no place here and it is the very first car people see when they walk in the kicker in all this is that if you go to ms anderson s facebook page here s her deplorable profile photo how heartless is this the woman who claimed to be so upset at a racist car thinks it s ok to make fun of a young white man who was murdered by the north koreans reallyeveryone caved to this shrieking bullyof course the officials of the event caved immediately and gave an apology for having the racist car at the festival festival chair paul maguire said we are very sorry that someone is hurt it s a family event and there are hundred thousands who came and had a lot of fun and nobody should be subjected to those triggering moments that just bring back moments of the worst of human history if there were a swastika here i would have known right away that can t be here now i know the confederate flag has the same status toronto mayor john tory had this pitiful statement to make the confederate flag and what it was represented historically and represents of a lot of people today has no place in toronto ', 'labels': 1, 'label_names': 'real', 'text_length': 2009}\n"
     ]
    },
    {
     "name": "stderr",
     "output_type": "stream",
     "text": [
      "Tokenizing: 100%|██████████| 50466/50466 [00:20<00:00, 2486.07 examples/s]\n",
      "Tokenizing: 100%|██████████| 14419/14419 [00:05<00:00, 2535.10 examples/s]\n",
      "Tokenizing: 100%|██████████| 7210/7210 [00:02<00:00, 2476.11 examples/s]"
     ]
    },
    {
     "name": "stdout",
     "output_type": "stream",
     "text": [
      "{'text': 'when allie mangel learned that she was losing some of her vision because of a rare condition called susac’s syndrome the last thing on her mind was figuring out how to make her car lease payments after her doctor notified the california department of motor vehicles last november that she should not be allowed to drive and her license was subsequently suspended leasing a ford edge at a month became an unnecessary expense or so she thought ms mangel a youth programming coordinator in san diego discovered that even though she was not legally allowed to drive she was still legally obligated to make her lease payments “ford credit and the dealer told me that the only way i could get out of the lease was to die or join the military” ms mangel said she had learned the hard way what many people may not realize even though leasing has become an increasingly common and seemingly affordable alternative to buying a car a car lease agreement is like any other contract and unless specific reasons are stated in the agreement allowing the lessee to end the lease the signer must make the payments whether one can drive or not after her diagnosis ms mangel was in the hospital for three weeks and out of work for a total of five and running short of money “i was a mess” ms mangel recalled “i was going through all these things and ford would not budge i was in tears and didn’t know what to do ” ms mangel had signed a lease agreement spelling out the terms of the contract and ending the lease early without penalty was not covered the rules are the rules according to margaret mellott a spokeswoman for ford motor credit “all ford credit lease agreements state very clearly the obligations when one turns in a car before the end of a lease agreement” ms mellott said “i’m not aware of any exceptions being made ” ford credit and most other vehicle leasing companies do give lessees options for breaking the contract but the terms can be severe ms mangel could have returned the vehicle to the dealer and then paid the difference between the amount owed on her payments and the value of the car if sold at auction in her case that would have been an unbearable burden about or she could have tried to sell her lease to a third party through a company but with membership and lease transfer fees that would have also cost her more than she could afford “a friend tried to do that’’ she said “and he received no interest after it being listed for weeks ” some lessors may demand payment of all the remaining payments plus penalties if the lessee decides simply to walk away from the lease and have the vehicle repossessed the person’s credit rating will suffer leasing a vehicle of course is not the same as purchasing one rather it’s more akin to renting an apartment as with any rental one never actually owns the property under a vehicle lease the lessee agrees to make payments for a fixed number of years those payments equal the difference between the value of the car when first leased and its predicted residual wholesale value at the end of the lease plus interest because the entire value of the car is not being financed the payments are less on a monthly basis than they would be if the vehicle were purchased over the same period that is a main reason that leasing is so popular it lets consumers drive cars that are more expensive than those they might be able to afford to buy when the vehicle is returned at the end of the lease the only additional costs are those incurred if the vehicle was driven more than the maximum mileage any amount due for damage beyond normal wear and tear and any fees the lessee may also decide to purchase the vehicle for that contracted residual value one reason car leases tend to be so inflexible is that the deal is a contract the dealer signs the lease with the customer and then assigns the contract to a leasing company leases can be voided if the original agreement was made under untruthful conditions — if the lessee is a minor for example or does not possess a valid driver’s license in those cases the leasing company would not want to be part of a fraudulent contract “this is not as rare as one would think — people do fraudulent deals all the time” said randall mccathren managing director of the association of consumer vehicle lessors a trade group in addition if the lease terms or the vehicle was misrepresented the lessee can try to void the lease under each state’s laws on unfair and deceptive acts and practices mr mccathren said but in a legally struck deal even death will not necessarily free one from a lease obligation typically the dead person’s estate becomes liable for the obligation although some car finance companies will make exceptions still it never hurts to try to seek concessions “it absolutely pays to contact the leaseholder and try to work out some consideration” mr mccathren said he noted that leasing companies will typically defer payments if a lessee is in the hospital for a limited period of time only one action will guarantee that someone is able to break any company’s vehicle lease under the federal servicemembers civil relief act a person who has enlisted in the armed services and is to be assigned to a location outside the continental united states for more than six months can terminate a vehicle lease without penalty but for those who are not joining the military the best bet for getting out of a vehicle lease is to try to sell it to a third party companies like leasetrader com and swapalease com act as brokers and for a fee will try to match lease sellers and buyers but the manufacturers of some vehicles including land rovers leased through land rover financial group and volvos leased through volvo car financial services do not allow transfer of leases swapalease maintains a list of vehicle manufacturers’ leasing policies on its website some leasing companies including ford motor credit and financial services will allow a lease obligation to be forgiven upon the death of the lessee under mercedes’s customer bereavement program when the company learns of the death of a lessee it sends a condolence letter to the family as well as a leather journal and pen to help it manage the estate’s obligations if the mercedes lease account is current the family can choose to return the vehicle within days and owe nothing further if the family decides to keep leasing the vehicle and the new lessee meets credit criteria no transfer fee is charged ford motor credit’s peace of mind program allows the family of a deceased lessee with a death certificate to return the vehicle within days of the death and the lease obligation will be excused notifying the company of the death also prevents any company collection activity over the next several weeks ms mangel as things turned out was more fortunate than she had expected her vision stabilized a few months after she lost her license and she was able to drive again in the interim her father covered the lease payments but the terms and conditions of her lease made her realize that while the payments may be lower leasing a vehicle can be more onerous than buying one “i don’t want to lease again ever” ms mangel said', 'labels': 0, 'label_names': 'fake', 'text_length': 7374, 'input_ids': [101, 2043, 16944, 2158, 12439, 4342, 2008, 2016, 2001, 3974, 2070, 1997, 2014, 4432, 2138, 1997, 1037, 4678, 4650, 2170, 10514, 3736, 2278, 1521, 1055, 8715, 1996, 2197, 2518, 2006, 2014, 2568, 2001, 23218, 2041, 2129, 2000, 2191, 2014, 2482, 10084, 10504, 2044, 2014, 3460, 19488, 1996, 2662, 2533, 1997, 5013, 4683, 2197, 2281, 2008, 2016, 2323, 2025, 2022, 3039, 2000, 3298, 1998, 2014, 6105, 2001, 3525, 6731, 26707, 1037, 4811, 3341, 2012, 1037, 3204, 2150, 2019, 14203, 10961, 2030, 2061, 2016, 2245, 5796, 2158, 12439, 1037, 3360, 4730, 10669, 1999, 2624, 5277, 3603, 2008, 2130, 2295, 2016, 2001, 2025, 10142, 3039, 2000, 3298, 2016, 2001, 2145, 10142, 27885, 14715, 3064, 2000, 2191, 2014, 10084, 10504, 1523, 4811, 4923, 1998, 1996, 11033, 2409, 2033, 2008, 1996, 2069, 2126, 1045, 2071, 2131, 2041, 1997, 1996, 10084, 2001, 2000, 3280, 2030, 3693, 1996, 2510, 1524, 5796, 2158, 12439, 2056, 2016, 2018, 4342, 1996, 2524, 2126, 2054, 2116, 2111, 2089, 2025, 5382, 2130, 2295, 26707, 2038, 2468, 2019, 6233, 2691, 1998, 9428, 15184, 4522, 2000, 9343, 1037, 2482, 1037, 2482, 10084, 3820, 2003, 2066, 2151, 2060, 3206, 1998, 4983, 3563, 4436, 2024, 3090, 1999, 1996, 3820, 4352, 1996, 2625, 4402, 2000, 2203, 1996, 10084, 1996, 3696, 2121, 2442, 2191, 1996, 10504, 3251, 2028, 2064, 3298, 2030, 2025, 2044, 2014, 11616, 5796, 2158, 12439, 2001, 1999, 1996, 2902, 2005, 2093, 3134, 1998, 2041, 1997, 2147, 2005, 1037, 2561, 1997, 2274, 1998, 2770, 2460, 1997, 2769, 1523, 1045, 2001, 1037, 6752, 1524, 5796, 2158, 12439, 7383, 1523, 1045, 2001, 2183, 2083, 2035, 2122, 2477, 1998, 4811, 2052, 2025, 24981, 1045, 2001, 1999, 4000, 1998, 2134, 1521, 1056, 2113, 2054, 2000, 2079, 1524, 5796, 2158, 12439, 2018, 2772, 1037, 10084, 3820, 11379, 2041, 1996, 3408, 1997, 1996, 3206, 1998, 4566, 1996, 10084, 2220, 2302, 6531, 2001, 2025, 3139, 1996, 3513, 2024, 1996, 3513, 2429, 2000, 5545, 11463, 10994, 2102, 1037, 3764, 26760, 20778, 2005, 4811, 5013, 4923, 1523, 2035, 4811, 4923, 10084, 10540, 2110, 2200, 4415, 1996, 14422, 2043, 2028, 4332, 1999, 1037, 2482, 2077, 1996, 2203, 1997, 1037, 10084, 3820, 1524, 5796, 11463, 10994, 2102, 2056, 1523, 1045, 1521, 1049, 2025, 5204, 1997, 2151, 11790, 2108, 2081, 1524, 4811, 4923, 1998, 2087, 2060, 4316, 26707, 3316, 2079, 2507, 2625, 10285, 7047, 2005, 4911, 1996, 3206, 2021, 1996, 3408, 2064, 2022, 5729, 5796, 2158, 12439, 2071, 2031, 2513, 1996, 4316, 2000, 1996, 11033, 1998, 2059, 3825, 1996, 4489, 2090, 1996, 3815, 12232, 2006, 2014, 10504, 1998, 1996, 3643, 1997, 1996, 2482, 2065, 2853, 2012, 10470, 1999, 2014, 2553, 2008, 2052, 2031, 2042, 2019, 24257, 10859, 2055, 2030, 2016, 2071, 2031, 2699, 2000, 5271, 2014, 10084, 2000, 1037, 2353, 2283, 2083, 1037, 2194, 2021, 2007, 5779, 1998, 10084, 4651, 9883, 2008, 2052, 2031, 2036, 3465, 2014, 2062, 2084, 2016, 2071, 8984, 1523, 1037, 2767, 2699, 2000, 2079, 2008, 1521, 1521, 2016, 2056, 1523, 1998, 2002, 2363, 2053, 3037, 2044, 2009, 2108, 3205, 2005, 3134, 1524, 2070, 2625, 5668, 2089, 5157, 7909, 1997, 2035, 1996, 3588, 10504, 4606, 12408, 2065, 1996, 2625, 4402, 7288, 3432, 2000, 3328, 2185, 2013, 102], 'token_type_ids': [0, 0, 0, 0, 0, 0, 0, 0, 0, 0, 0, 0, 0, 0, 0, 0, 0, 0, 0, 0, 0, 0, 0, 0, 0, 0, 0, 0, 0, 0, 0, 0, 0, 0, 0, 0, 0, 0, 0, 0, 0, 0, 0, 0, 0, 0, 0, 0, 0, 0, 0, 0, 0, 0, 0, 0, 0, 0, 0, 0, 0, 0, 0, 0, 0, 0, 0, 0, 0, 0, 0, 0, 0, 0, 0, 0, 0, 0, 0, 0, 0, 0, 0, 0, 0, 0, 0, 0, 0, 0, 0, 0, 0, 0, 0, 0, 0, 0, 0, 0, 0, 0, 0, 0, 0, 0, 0, 0, 0, 0, 0, 0, 0, 0, 0, 0, 0, 0, 0, 0, 0, 0, 0, 0, 0, 0, 0, 0, 0, 0, 0, 0, 0, 0, 0, 0, 0, 0, 0, 0, 0, 0, 0, 0, 0, 0, 0, 0, 0, 0, 0, 0, 0, 0, 0, 0, 0, 0, 0, 0, 0, 0, 0, 0, 0, 0, 0, 0, 0, 0, 0, 0, 0, 0, 0, 0, 0, 0, 0, 0, 0, 0, 0, 0, 0, 0, 0, 0, 0, 0, 0, 0, 0, 0, 0, 0, 0, 0, 0, 0, 0, 0, 0, 0, 0, 0, 0, 0, 0, 0, 0, 0, 0, 0, 0, 0, 0, 0, 0, 0, 0, 0, 0, 0, 0, 0, 0, 0, 0, 0, 0, 0, 0, 0, 0, 0, 0, 0, 0, 0, 0, 0, 0, 0, 0, 0, 0, 0, 0, 0, 0, 0, 0, 0, 0, 0, 0, 0, 0, 0, 0, 0, 0, 0, 0, 0, 0, 0, 0, 0, 0, 0, 0, 0, 0, 0, 0, 0, 0, 0, 0, 0, 0, 0, 0, 0, 0, 0, 0, 0, 0, 0, 0, 0, 0, 0, 0, 0, 0, 0, 0, 0, 0, 0, 0, 0, 0, 0, 0, 0, 0, 0, 0, 0, 0, 0, 0, 0, 0, 0, 0, 0, 0, 0, 0, 0, 0, 0, 0, 0, 0, 0, 0, 0, 0, 0, 0, 0, 0, 0, 0, 0, 0, 0, 0, 0, 0, 0, 0, 0, 0, 0, 0, 0, 0, 0, 0, 0, 0, 0, 0, 0, 0, 0, 0, 0, 0, 0, 0, 0, 0, 0, 0, 0, 0, 0, 0, 0, 0, 0, 0, 0, 0, 0, 0, 0, 0, 0, 0, 0, 0, 0, 0, 0, 0, 0, 0, 0, 0, 0, 0, 0, 0, 0, 0, 0, 0, 0, 0, 0, 0, 0, 0, 0, 0, 0, 0, 0, 0, 0, 0, 0, 0, 0, 0, 0, 0, 0, 0, 0, 0, 0, 0, 0, 0, 0, 0, 0, 0, 0, 0, 0, 0, 0, 0, 0, 0, 0, 0, 0, 0, 0, 0, 0, 0, 0, 0, 0, 0, 0, 0, 0, 0, 0, 0, 0, 0, 0, 0, 0, 0, 0, 0, 0, 0, 0, 0, 0, 0, 0, 0, 0, 0, 0, 0, 0, 0, 0, 0, 0, 0, 0, 0, 0, 0, 0, 0, 0, 0, 0, 0, 0, 0, 0, 0, 0, 0, 0, 0, 0, 0, 0], 'attention_mask': [1, 1, 1, 1, 1, 1, 1, 1, 1, 1, 1, 1, 1, 1, 1, 1, 1, 1, 1, 1, 1, 1, 1, 1, 1, 1, 1, 1, 1, 1, 1, 1, 1, 1, 1, 1, 1, 1, 1, 1, 1, 1, 1, 1, 1, 1, 1, 1, 1, 1, 1, 1, 1, 1, 1, 1, 1, 1, 1, 1, 1, 1, 1, 1, 1, 1, 1, 1, 1, 1, 1, 1, 1, 1, 1, 1, 1, 1, 1, 1, 1, 1, 1, 1, 1, 1, 1, 1, 1, 1, 1, 1, 1, 1, 1, 1, 1, 1, 1, 1, 1, 1, 1, 1, 1, 1, 1, 1, 1, 1, 1, 1, 1, 1, 1, 1, 1, 1, 1, 1, 1, 1, 1, 1, 1, 1, 1, 1, 1, 1, 1, 1, 1, 1, 1, 1, 1, 1, 1, 1, 1, 1, 1, 1, 1, 1, 1, 1, 1, 1, 1, 1, 1, 1, 1, 1, 1, 1, 1, 1, 1, 1, 1, 1, 1, 1, 1, 1, 1, 1, 1, 1, 1, 1, 1, 1, 1, 1, 1, 1, 1, 1, 1, 1, 1, 1, 1, 1, 1, 1, 1, 1, 1, 1, 1, 1, 1, 1, 1, 1, 1, 1, 1, 1, 1, 1, 1, 1, 1, 1, 1, 1, 1, 1, 1, 1, 1, 1, 1, 1, 1, 1, 1, 1, 1, 1, 1, 1, 1, 1, 1, 1, 1, 1, 1, 1, 1, 1, 1, 1, 1, 1, 1, 1, 1, 1, 1, 1, 1, 1, 1, 1, 1, 1, 1, 1, 1, 1, 1, 1, 1, 1, 1, 1, 1, 1, 1, 1, 1, 1, 1, 1, 1, 1, 1, 1, 1, 1, 1, 1, 1, 1, 1, 1, 1, 1, 1, 1, 1, 1, 1, 1, 1, 1, 1, 1, 1, 1, 1, 1, 1, 1, 1, 1, 1, 1, 1, 1, 1, 1, 1, 1, 1, 1, 1, 1, 1, 1, 1, 1, 1, 1, 1, 1, 1, 1, 1, 1, 1, 1, 1, 1, 1, 1, 1, 1, 1, 1, 1, 1, 1, 1, 1, 1, 1, 1, 1, 1, 1, 1, 1, 1, 1, 1, 1, 1, 1, 1, 1, 1, 1, 1, 1, 1, 1, 1, 1, 1, 1, 1, 1, 1, 1, 1, 1, 1, 1, 1, 1, 1, 1, 1, 1, 1, 1, 1, 1, 1, 1, 1, 1, 1, 1, 1, 1, 1, 1, 1, 1, 1, 1, 1, 1, 1, 1, 1, 1, 1, 1, 1, 1, 1, 1, 1, 1, 1, 1, 1, 1, 1, 1, 1, 1, 1, 1, 1, 1, 1, 1, 1, 1, 1, 1, 1, 1, 1, 1, 1, 1, 1, 1, 1, 1, 1, 1, 1, 1, 1, 1, 1, 1, 1, 1, 1, 1, 1, 1, 1, 1, 1, 1, 1, 1, 1, 1, 1, 1, 1, 1, 1, 1, 1, 1, 1, 1, 1, 1, 1, 1, 1, 1, 1, 1, 1, 1, 1, 1, 1, 1, 1, 1, 1, 1, 1, 1, 1, 1, 1, 1, 1, 1, 1, 1, 1, 1, 1, 1, 1, 1, 1, 1, 1]}\n"
     ]
    },
    {
     "name": "stderr",
     "output_type": "stream",
     "text": [
      "\n"
     ]
    }
   ],
   "source": [
    "# 3.1 Tokenizing\n",
    "\n",
    "# Initialize the tokenizer\n",
    "model_ckpt = \"bert-base-uncased\"\n",
    "tokenizer = AutoTokenizer.from_pretrained(model_ckpt)\n",
    "\n",
    "# Check vocabulary size\n",
    "print(f\"Vocabulary size: {len(tokenizer.vocab)}\")\n",
    "print(f\"Tokenizer model max length: {tokenizer.model_max_length}\")\n",
    "\n",
    "# Perform train-test-validation split\n",
    "train, test = train_test_split(df, test_size=0.3, stratify=df['labels'])\n",
    "test, validation = train_test_split(test, test_size=1/3, stratify=test['labels'])\n",
    "\n",
    "print(train.shape, test.shape, validation.shape)\n",
    "\n",
    "# Convert dataframe to dictionary\n",
    "dataset = DatasetDict(\n",
    "    {'train': Dataset.from_pandas(train, preserve_index=False),\n",
    "     'test': Dataset.from_pandas(test, preserve_index=False),\n",
    "     'validation': Dataset.from_pandas(validation, preserve_index=False)}\n",
    ")\n",
    "\n",
    "# Check dataset structure\n",
    "print(dataset)\n",
    "\n",
    "# Let's have a look at some entries\n",
    "print(dataset['train'][0])\n",
    "print(dataset['train'][1])\n",
    "print(dataset['train'][2])\n",
    "\n",
    "# 3.2 Tokenization Function¶\n",
    "\n",
    "def tokenize_with_progress(batch):\n",
    "    return tokenizer(batch['text'], padding=True, truncation=True, max_length=512)\n",
    "\n",
    "# Add progress bar for tokenization\n",
    "encoded_dataset = dataset.map(\n",
    "    tokenize_with_progress,\n",
    "    batched=True,\n",
    "    batch_size=500,\n",
    "    desc=\"Tokenizing\"\n",
    ")\n",
    "\n",
    "# Check some tokenized outputs\n",
    "print(encoded_dataset['train'][0])\n",
    "\n",
    "# Poprawna wersja\n",
    "labels = dataset['train'].unique('labels')\n",
    "label_names = dataset['train'].unique('label_names')\n",
    "\n",
    "label2id = {name: int(label) for name, label in zip(label_names, labels)}\n",
    "id2label = {v: k for k, v in label2id.items()}\n"
   ]
  },
  {
   "cell_type": "markdown",
   "id": "bc6438a8",
   "metadata": {},
   "source": [
    "**4.** Model preparation"
   ]
  },
  {
   "cell_type": "code",
   "execution_count": 20,
   "id": "4490caf2",
   "metadata": {},
   "outputs": [
    {
     "name": "stderr",
     "output_type": "stream",
     "text": [
      "Some weights of BertForSequenceClassification were not initialized from the model checkpoint at bert-base-uncased and are newly initialized: ['classifier.bias', 'classifier.weight']\n",
      "You should probably TRAIN this model on a down-stream task to be able to use it for predictions and inference.\n"
     ]
    }
   ],
   "source": [
    "config = AutoConfig.from_pretrained(model_ckpt,label2id=label2id,id2label=id2label)\n",
    "\n",
    "model = AutoModelForSequenceClassification.from_pretrained(model_ckpt,config=config).to(device)\n",
    "\n",
    "peft_config = LoraConfig(\n",
    "    task_type=\"SEQ_CLS\",\n",
    "    r=32,\n",
    "    lora_alpha=64,\n",
    "    lora_dropout=0.05,\n",
    "    target_modules=[\"query\", \"key\", \"value\", \"dense\"]\n",
    ")\n",
    "\n",
    "model = get_peft_model(model,peft_config)\n",
    "\n",
    "\n",
    "def compute_metrics(eval_pred):\n",
    "    logits, labels = eval_pred\n",
    "    predictions = np.argmax(logits, axis=-1)\n",
    "    return {\n",
    "        \"accuracy\": accuracy_score(labels, predictions),\n",
    "        \"f1\": f1_score(labels, predictions, average=\"weighted\"),\n",
    "        \"precision\": precision_score(labels, predictions, average=\"weighted\"),\n",
    "        \"recall\": recall_score(labels, predictions, average=\"weighted\"),\n",
    "    }\n",
    "\n",
    "\n",
    "data_collator = DataCollatorWithPadding(tokenizer=tokenizer)\n",
    "\n",
    "training_args = TrainingArguments(\n",
    "    output_dir=\"./results\",\n",
    "    eval_strategy=\"epoch\",\n",
    "    save_strategy=\"epoch\",\n",
    "    logging_strategy=\"epoch\",\n",
    "    learning_rate=2e-5,\n",
    "    per_device_train_batch_size=16,\n",
    "    per_device_eval_batch_size=32,\n",
    "    num_train_epochs=3,\n",
    "    weight_decay=0.01,\n",
    "    load_best_model_at_end=True,\n",
    "    metric_for_best_model=\"f1\",\n",
    "    save_total_limit=2,\n",
    "    report_to=\"none\",\n",
    ")"
   ]
  },
  {
   "cell_type": "markdown",
   "id": "033399c0",
   "metadata": {},
   "source": [
    "**5.** Fine-tuning"
   ]
  },
  {
   "cell_type": "code",
   "execution_count": null,
   "id": "58e337e6",
   "metadata": {},
   "outputs": [
    {
     "name": "stderr",
     "output_type": "stream",
     "text": [
      "/tmp/ipykernel_1973/40142889.py:1: FutureWarning: `tokenizer` is deprecated and will be removed in version 5.0.0 for `Trainer.__init__`. Use `processing_class` instead.\n",
      "  trainer = Trainer(\n",
      "No label_names provided for model class `PeftModelForSequenceClassification`. Since `PeftModel` hides base models input arguments, if label_names is not given, label_names can't be set automatically within `Trainer`. Note that empty label_names list will be used instead.\n"
     ]
    },
    {
     "data": {
      "text/html": [
       "\n",
       "    <div>\n",
       "      \n",
       "      <progress value='9465' max='9465' style='width:300px; height:20px; vertical-align: middle;'></progress>\n",
       "      [9465/9465 3:26:42, Epoch 3/3]\n",
       "    </div>\n",
       "    <table border=\"1\" class=\"dataframe\">\n",
       "  <thead>\n",
       " <tr style=\"text-align: left;\">\n",
       "      <th>Epoch</th>\n",
       "      <th>Training Loss</th>\n",
       "      <th>Validation Loss</th>\n",
       "      <th>Accuracy</th>\n",
       "      <th>F1</th>\n",
       "      <th>Precision</th>\n",
       "      <th>Recall</th>\n",
       "    </tr>\n",
       "  </thead>\n",
       "  <tbody>\n",
       "    <tr>\n",
       "      <td>1</td>\n",
       "      <td>0.149100</td>\n",
       "      <td>0.075350</td>\n",
       "      <td>0.979473</td>\n",
       "      <td>0.979476</td>\n",
       "      <td>0.979589</td>\n",
       "      <td>0.979473</td>\n",
       "    </tr>\n",
       "    <tr>\n",
       "      <td>2</td>\n",
       "      <td>0.059800</td>\n",
       "      <td>0.059600</td>\n",
       "      <td>0.984743</td>\n",
       "      <td>0.984741</td>\n",
       "      <td>0.984778</td>\n",
       "      <td>0.984743</td>\n",
       "    </tr>\n",
       "    <tr>\n",
       "      <td>3</td>\n",
       "      <td>0.043400</td>\n",
       "      <td>0.053486</td>\n",
       "      <td>0.987240</td>\n",
       "      <td>0.987240</td>\n",
       "      <td>0.987241</td>\n",
       "      <td>0.987240</td>\n",
       "    </tr>\n",
       "  </tbody>\n",
       "</table><p>"
      ],
      "text/plain": [
       "<IPython.core.display.HTML object>"
      ]
     },
     "metadata": {},
     "output_type": "display_data"
    },
    {
     "data": {
      "text/plain": [
       "TrainOutput(global_step=9465, training_loss=0.08408636464936609, metrics={'train_runtime': 12403.881, 'train_samples_per_second': 12.206, 'train_steps_per_second': 0.763, 'total_flos': 4.232697912093082e+16, 'train_loss': 0.08408636464936609, 'epoch': 3.0})"
      ]
     },
     "execution_count": 21,
     "metadata": {},
     "output_type": "execute_result"
    }
   ],
   "source": [
    "trainer = Trainer(\n",
    "    model=model,\n",
    "    args=training_args,\n",
    "    train_dataset=encoded_dataset[\"train\"],\n",
    "    eval_dataset=encoded_dataset[\"validation\"],\n",
    "    tokenizer=tokenizer,\n",
    "    data_collator=data_collator,\n",
    "    compute_metrics=compute_metrics,\n",
    ")\n",
    "\n",
    "trainer.train()"
   ]
  },
  {
   "cell_type": "markdown",
   "id": "42becbec",
   "metadata": {},
   "source": [
    "**6.** Evaluation"
   ]
  },
  {
   "cell_type": "code",
   "execution_count": 22,
   "id": "e2d6d762",
   "metadata": {},
   "outputs": [
    {
     "data": {
      "text/html": [],
      "text/plain": [
       "<IPython.core.display.HTML object>"
      ]
     },
     "metadata": {},
     "output_type": "display_data"
    },
    {
     "name": "stdout",
     "output_type": "stream",
     "text": [
      "Test set evaluation:\n",
      "eval_loss: 0.0511\n",
      "eval_accuracy: 0.9875\n",
      "eval_f1: 0.9875\n",
      "eval_precision: 0.9875\n",
      "eval_recall: 0.9875\n",
      "eval_runtime: 658.0212\n",
      "eval_samples_per_second: 21.9130\n",
      "eval_steps_per_second: 0.6850\n",
      "epoch: 3.0000\n"
     ]
    }
   ],
   "source": [
    "results = trainer.evaluate(encoded_dataset[\"test\"])\n",
    "print(\"Test set evaluation:\")\n",
    "for k, v in results.items():\n",
    "    print(f\"{k}: {v:.4f}\")"
   ]
  },
  {
   "cell_type": "markdown",
   "id": "a7c9da9b",
   "metadata": {},
   "source": [
    "**7.** Analizing the Predictions"
   ]
  },
  {
   "cell_type": "code",
   "execution_count": 23,
   "id": "d06d54b2",
   "metadata": {},
   "outputs": [
    {
     "data": {
      "image/png": "[encoded data removed]",
      "text/plain": [
       "<Figure size 640x480 with 2 Axes>"
      ]
     },
     "metadata": {},
     "output_type": "display_data"
    }
   ],
   "source": [
    "preds_output = trainer.predict(encoded_dataset['test'])\n",
    "\n",
    "y_pred = np.argmax(preds_output.predictions,axis=1)\n",
    "\n",
    "y_true = encoded_dataset['test'][:]['labels']\n",
    "\n",
    "cm = confusion_matrix(y_true,y_pred)\n",
    "\n",
    "ax = sns.heatmap(cm,annot=True)\n",
    "ax.xaxis.set_ticklabels(['fake news','real news'])\n",
    "ax.yaxis.set_ticklabels(['fake news','real news'])\n",
    "ax.set_title('Confusion Matrix - HF Transformers',fontsize=18)\n",
    "\n",
    "plt.tight_layout()"
   ]
  },
  {
   "cell_type": "markdown",
   "id": "b86692e6",
   "metadata": {},
   "source": [
    "**8.** Saving the model"
   ]
  },
  {
   "cell_type": "code",
   "execution_count": 24,
   "id": "de0f8de1",
   "metadata": {},
   "outputs": [
    {
     "data": {
      "text/plain": [
       "('./model_directory/tokenizer_config.json',\n",
       " './model_directory/special_tokens_map.json',\n",
       " './model_directory/vocab.txt',\n",
       " './model_directory/added_tokens.json',\n",
       " './model_directory/tokenizer.json')"
      ]
     },
     "execution_count": 24,
     "metadata": {},
     "output_type": "execute_result"
    }
   ],
   "source": [
    "model.save_pretrained(\"./model_directory\")\n",
    "tokenizer.save_pretrained(\"./model_directory\")"
   ]
  },
  {
   "cell_type": "markdown",
   "id": "99f83953",
   "metadata": {},
   "source": [
    "**9.** Conclusions"
   ]
  },
  {
   "cell_type": "markdown",
   "id": "54d71540",
   "metadata": {},
   "source": [
    "**Test Set Evaluation – Summary**\n",
    "\n",
    "- **Accuracy:** 98.75%  \n",
    "- **F1 Score:** 98.75%  \n",
    "- **Precision:** 98.75%  \n",
    "- **Recall:** 98.75%  \n",
    "- **Loss:** 0.0511  \n",
    "\n",
    "---\n",
    "\n",
    "**Confusion Matrix Insights (HF Transformers)**\n",
    "\n",
    "- **True Fake News (TN):** ~6900  \n",
    "- **False Positives (FP):** 91  \n",
    "- **False Negatives (FN):** 89  \n",
    "- **True Real News (TP):** ~7300  \n",
    "\n",
    "---\n",
    "\n",
    "**Conclusions**\n",
    "\n",
    "The model demonstrates **excellent performance** on the test set:\n",
    "\n",
    "- **Very high precision and recall**, indicating a strong ability to distinguish between real and fake news.\n",
    "- The **low number of misclassifications** (only 180 errors out of ~14,380 samples) confirms the model's **robustness and generalization**.\n",
    "- Suitable for production use in misinformation detection, especially where high reliability is crucial.\n"
   ]
  }
 ],
 "metadata": {
  "kernelspec": {
   "display_name": "Python 3 (ipykernel)",
   "language": "python",
   "name": "python3"
  },
  "language_info": {
   "codemirror_mode": {
    "name": "ipython",
    "version": 3
   },
   "file_extension": ".py",
   "mimetype": "text/x-python",
   "name": "python",
   "nbconvert_exporter": "python",
   "pygments_lexer": "ipython3",
   "version": "3.10.12"
  }
 },
 "nbformat": 4,
 "nbformat_minor": 5
}
